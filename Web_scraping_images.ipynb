{
 "cells": [
  {
   "cell_type": "markdown",
   "metadata": {},
   "source": [
    "### Web scraping"
   ]
  },
  {
   "cell_type": "markdown",
   "metadata": {},
   "source": [
    "#### import essentials"
   ]
  },
  {
   "cell_type": "code",
   "execution_count": null,
   "metadata": {},
   "outputs": [],
   "source": [
    "import os\n",
    "import requests\n",
    "import pandas as pd\n",
    "from bs4 import BeautifulSoup\n",
    "from selenium import webdriver\n",
    "from selenium.webdriver.common.keys import Keys\n",
    "from selenium.webdriver.chrome.options import Options\n",
    "import time\n",
    "import urllib"
   ]
  },
  {
   "cell_type": "code",
   "execution_count": null,
   "metadata": {},
   "outputs": [],
   "source": [
    "# if you dont want to open chrome web page use can use this code(optional)\n",
    "options = Options()\n",
    "options.add_argument('--headless') \n",
    "# path to the chromedriver executable\n",
    "chromedriver = \"/Applications/chromedriver\" \n",
    "os.environ[\"webdriver.chrome.driver\"] = chromedriver"
   ]
  },
  {
   "cell_type": "code",
   "execution_count": null,
   "metadata": {},
   "outputs": [],
   "source": [
    "# webpage from which photo links needs to be downloaded.\n",
    "url = \"https://500px.com/populer\"\n",
    "url = \"https://500px.com/editors\"\n",
    "# code to get photo links from the webpage.\n",
    "page_url = url\n",
    "driver = webdriver.Chrome(chromedriver)\n",
    "driver.get(page_url)\n",
    "time.sleep(800)# 800 seconds is needed to get enough urls ~4000.\n",
    "soup = BeautifulSoup(driver.page_source, 'lxml')\n",
    "\n",
    "#all the links are append to a list called photo_links.\n",
    "photo_links = []\n",
    "for img in soup.find_all('a', {\"class\" : \"photo_link\"}):\n",
    "    link = img.find('img').get('src')\n",
    "    photo_links.append(link)\n",
    "len(photo_links)\n",
    "\n"
   ]
  },
  {
   "cell_type": "markdown",
   "metadata": {},
   "source": [
    "#### Pickling urls "
   ]
  },
  {
   "cell_type": "code",
   "execution_count": null,
   "metadata": {},
   "outputs": [],
   "source": [
    "#Save image urls by pickling and use them later to download images.\n",
    "import pickle as pkl\n",
    "with open('editors_links.pkl', 'wb') as to_write:\n",
    "    pkl.dump(editer_links, to_write)\n",
    "\n",
    "with open('popular_links.pkl', 'wb') as to_write:\n",
    "    pkl.dump(popular_links, to_write)\n",
    "\n",
    "#Read the pickled file\n",
    "with open('image_links.pkl', 'rb') as read_file:\n",
    "    imges = pkl.load(read_file)"
   ]
  },
  {
   "cell_type": "markdown",
   "metadata": {},
   "source": [
    "#### Download images "
   ]
  },
  {
   "cell_type": "code",
   "execution_count": null,
   "metadata": {},
   "outputs": [],
   "source": [
    "for link in photo_links:\n",
    "    img_id = link.split('/')[4]\n",
    "    urllib.request.urlretrieve(link, img_id + '.png')\n",
    "    break"
   ]
  }
 ],
 "metadata": {
  "kernelspec": {
   "display_name": "Python 3",
   "language": "python",
   "name": "python3"
  },
  "language_info": {
   "codemirror_mode": {
    "name": "ipython",
    "version": 3
   },
   "file_extension": ".py",
   "mimetype": "text/x-python",
   "name": "python",
   "nbconvert_exporter": "python",
   "pygments_lexer": "ipython3",
   "version": "3.6.5"
  }
 },
 "nbformat": 4,
 "nbformat_minor": 2
}
